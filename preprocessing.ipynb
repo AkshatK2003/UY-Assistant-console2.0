{
 "cells": [
  {
   "cell_type": "code",
   "execution_count": 6,
   "id": "69afef13-02f7-4417-8b0c-4e38fcb54b51",
   "metadata": {},
   "outputs": [],
   "source": [
    "from variables import *\n",
    "from langchain_chroma import Chroma\n",
    "from langchain.schema import Document\n",
    "from langchain_community.document_loaders import PyPDFLoader\n",
    "from langchain_chroma import Chroma\n",
    "from openai import OpenAI\n",
    "from dotenv import load_dotenv\n",
    "from langchain_openai import OpenAIEmbeddings\n",
    "from langchain_text_splitters import RecursiveCharacterTextSplitter\n",
    "\n",
    "## for making doc embeddings\n",
    "load_dotenv()\n",
    "embeddings=OpenAIEmbeddings()\n",
    "openai=OpenAI()\n",
    "loader = PyPDFLoader(\"ZE_Manual.pdf\")\n",
    "pages = []\n",
    "for page in loader.lazy_load():\n",
    "    page.page_content=page.page_content.replace(\"This document is the property of UdyogYantra Technologies. Unauthorized distribution, reproduction, or use is prohibited.\",\"\").replace(\"  \",\" \").replace(\"\\n \\n\",\"\\n\").strip(\" \\n\")\n",
    "    pages.append(page)"
   ]
  },
  {
   "cell_type": "code",
   "execution_count": 13,
   "id": "c017fb75-3da6-40c2-86a7-92e0983dc8ce",
   "metadata": {},
   "outputs": [],
   "source": [
    "vectorStores=Chroma(\n",
    "    collection_name=\"ZE_Manual\",\n",
    "    embedding_function=embeddings,\n",
    "    persist_directory=\"pdfs\"\n",
    ")"
   ]
  },
  {
   "cell_type": "code",
   "execution_count": 25,
   "id": "025e1896-4479-41f7-a430-380c5762f483",
   "metadata": {},
   "outputs": [],
   "source": [
    "page_strings=[]\n",
    "for i in range(len(pages)):\n",
    "    page_strings.append(pages[i].page_content)"
   ]
  },
  {
   "cell_type": "code",
   "execution_count": 26,
   "id": "23b2a442-8ae1-438b-819d-c66c6244e2fb",
   "metadata": {},
   "outputs": [
    {
     "data": {
      "text/plain": [
       "'PRODUCT TRAINING MANUAL \\n(A Comprehensive Guide for Operational Excellence) \\nStep-by-Step Guide for Seamless Operations \\nVersion 1.0'"
      ]
     },
     "execution_count": 26,
     "metadata": {},
     "output_type": "execute_result"
    }
   ],
   "source": [
    "page_strings[0]"
   ]
  },
  {
   "cell_type": "code",
   "execution_count": 27,
   "id": "3be7608c-3921-4a33-9a72-e7983dd37d44",
   "metadata": {},
   "outputs": [],
   "source": [
    "text_splitter = RecursiveCharacterTextSplitter(chunk_size=1000, chunk_overlap=200)\n",
    "texts = text_splitter.split_text(text=\"\\n\".join(page_strings))"
   ]
  },
  {
   "cell_type": "code",
   "execution_count": 36,
   "id": "17bb85c0-44da-4b56-9979-f9ab90c1a8a6",
   "metadata": {},
   "outputs": [
    {
     "data": {
      "text/plain": [
       "['83204e0c-0108-40a3-8c64-cd1b90c67752',\n",
       " '93081fa0-bb08-4828-8d17-b5fb0d2d49d7',\n",
       " '9f730160-8f3f-4ebc-ada7-76384cebf097',\n",
       " 'c962b3a0-5c89-405d-afd7-580b7231eed8',\n",
       " '42706f13-a85c-4384-877a-d3bcdeb2177b',\n",
       " '4215b766-17ea-4e76-a3dc-e9cbf290fbe5',\n",
       " '23648854-1d68-48f5-8639-b533fcd9c715',\n",
       " '6561a409-d9c7-4576-a467-fc3b2149a37d',\n",
       " '8df4c03e-bb69-46fa-a176-a88b059f3919',\n",
       " '7b4de712-cb83-4ded-8b8b-39f484ad0474',\n",
       " 'fd041431-dcfd-448a-b85c-acba0c53d687',\n",
       " 'e423fa47-7549-42cd-8f4e-0078f5530a4d',\n",
       " '3fe44ded-ab9a-4ce1-bd0f-7f701d0d4680',\n",
       " '335c4bbc-9f23-4e0a-a181-c3a9572709e0',\n",
       " '6cfd07d6-d410-47ed-a483-5f2ae639b029',\n",
       " '2a3af3ef-029a-434e-a0cd-1944012dc61b',\n",
       " 'dccf0385-2ac2-41ce-8642-d70d38ae19cc',\n",
       " '241a6838-091f-4588-9c67-3ee1d9dcb349',\n",
       " '480c3e60-ab93-42b8-bdbe-638e1257f8cf',\n",
       " '622c728e-8d7c-4bc3-a339-415a1e405b2b',\n",
       " 'e49fcfe0-4e99-47e1-941d-6aea5caafe2c',\n",
       " 'a4cfd787-bd1b-40e5-a393-45832850213e',\n",
       " 'e02990ec-d1b0-4284-a977-72300de5c55f',\n",
       " '55b9cfd6-5f5f-486a-9d20-f5cb90e4d522',\n",
       " 'c6e75b94-8377-4078-a146-4e45f3a0505a',\n",
       " '7cdc09ce-2523-4625-97ba-6f9c66ef28ed',\n",
       " '549e81b1-90d8-44ab-935d-ce42e7e4088c',\n",
       " '984ccfc3-cffb-4049-9234-cb60f97a291a',\n",
       " '37cf0f6a-9f7f-4881-a277-a479ffcf3ed2',\n",
       " 'f2a4a722-79f3-4551-8eb4-12678e89e8b1',\n",
       " 'd21cc1d8-798b-4418-b85c-c277abbf09ad',\n",
       " '7946a294-f67a-41e9-b6cb-a3234186c0ca',\n",
       " 'aa1c5046-4e35-4f92-b786-1cc4a6eccc11',\n",
       " '255f0626-a395-457d-aa40-eb6a65f0dd5d',\n",
       " 'a052fe60-6ec4-4839-a656-c65a8dde3d78',\n",
       " '49a71123-9968-446e-813d-161b26161963',\n",
       " 'bc984d9d-db01-4667-bead-7a614945d60d',\n",
       " 'b351761f-ec3e-4df6-8965-418bb577792c',\n",
       " 'd7caa052-04cd-4a82-929d-56aed629dcf7',\n",
       " 'fa23f105-8cfb-433b-8408-e600b9ef6152',\n",
       " '01fe3d11-c930-46d3-a58f-8517ae72c2b1',\n",
       " '85fd6d43-8164-40f4-96a6-b9208241b07a',\n",
       " '272f8680-bb04-4af2-badc-2c55d5cd0b6f',\n",
       " 'b6d48237-b49f-4aee-8aaf-d97cda5939a4',\n",
       " 'f8338789-c33d-4539-9164-e3e13b7549ab',\n",
       " 'e58efb1d-12b6-46a6-81d1-e50698086747',\n",
       " 'c9beeb80-ae22-4126-9004-d4bb9e27fe0e',\n",
       " '86246032-cb31-433a-9257-a88c690d06ce',\n",
       " '2ae5279a-8dc4-4700-b06e-d653159dffa6',\n",
       " '052be5f0-0cfb-460b-92b1-587a176fbfc4',\n",
       " 'ac079205-f51b-4d87-ae6e-d188a42a38e2',\n",
       " '833ab2d5-e122-46a3-b5e4-90f143ee127c',\n",
       " '400e287e-ba9e-4299-b4f3-6517066ef6d8',\n",
       " '51e4360d-52a0-46d9-8251-6021f6af13e8']"
      ]
     },
     "execution_count": 36,
     "metadata": {},
     "output_type": "execute_result"
    }
   ],
   "source": [
    "vectorStores.add_texts(texts=texts)"
   ]
  },
  {
   "cell_type": "code",
   "execution_count": 45,
   "id": "f0bb3fb4-108b-4406-8c16-b6c0cf9d5baf",
   "metadata": {},
   "outputs": [
    {
     "name": "stdout",
     "output_type": "stream",
     "text": [
      "Procedure for Enable/Disable: \n",
      "1. Access the Product List: \n",
      "Go to \"My Food Products > All Product\" to view the list of all registered products. \n",
      "2. Locate the Product: \n",
      "Identify the product you want to enable or disable in the list. \n",
      "3. Use the Toggle Button: \n",
      "a. Each product has a toggle button in the list view. \n",
      "b. Enable: Switch the toggle to the \"ON\" position to make the product active \n",
      "and visible. \n",
      "c. Disable: Switch the toggle to the \"OFF\" position to deactivate the product \n",
      "temporarily (e.g., if it’s out of stock or seasonal). \n",
      "4. Changes are Saved Automatically: \n",
      "The system instantly updates the product's status. \n",
      "Procedure for Deletion: \n",
      "1. Access the Product List: \n",
      "Go to \"My Food Products > All Product.\" \n",
      "2. Locate the Product: \n",
      "Find the product to be deleted. \n",
      "3. Initiate Deletion: \n",
      "a. Click the Delete button/icon associated with the product. \n",
      "Examples: \n",
      "Suppose the price of \"Chocolate Truffle Cake\" needs to be updated. \n",
      "• Old Price: ₹550 \n",
      "• New Price: ₹600\n",
      "FIG 3.2.15 \n",
      "6.3. Product Update: Product updates are necessary for reflecting any changes in \n",
      "product information , such as a new logo, updated product offerings, or \n",
      "modifications to brand details. \n",
      "Procedure: \n",
      "1. Navigate to the Product Management Section: \n",
      "Go to \"My Food Products > All Product\". \n",
      "2. Select the Product to Update: \n",
      "Locate and click on the specific product requiring updates.\n",
      "30 \n",
      " \n",
      "3. Edit the Necessary Fields: \n",
      "Make changes to the relevant information, such as price, description, or \n",
      "category. \n",
      "4. Save the Updates: \n",
      "Click Save to finalize the changes. \n",
      " \n",
      "6.4. Product Enable/Disable/Deletion: Managing a product’s status, such as enabling \n",
      "or disabling it, or deleting it, ensures that only relevant products are active in the \n",
      "system. This can be easily managed through the product list view. \n",
      "Procedure for Enable/Disable: \n",
      "1. Access the Product List: \n",
      "Go to \"My Food Products > All Product\" to view the list of all registered products. \n",
      "2. Locate the Product:\n",
      "essential product details to ensure accurate representation and streamlined operations. \n",
      "FIG 3.2.16 \n",
      "Examples: \n",
      "Imagine you have a product called \"Blueberry Muffin\" in the list view: \n",
      "1. To disable it (e.g., it's out of stock), toggle the switch to \"OFF.\" The product will no \n",
      "longer appear in sales or inventory operations. \n",
      "2. If \"Blueberry Muffin\" is discontinued, click the Delete button, confirm the action, and \n",
      "remove it permanently from the system.\n",
      "32 \n",
      " \n",
      "7.1.1. Product Variant Creation: \n",
      "Product variants are essential to differentiate products by size, weight, or other \n",
      "attributes. In the UY System, an automatic default variant is created when a \n",
      "product is added. Users can create and customize up to ten variants per product. \n",
      "Procedure for Creating and Managing Product Variants: \n",
      "● Navigate to the Variants Section: \n",
      "Go to My Food Products > Variants Tab. \n",
      "● Access Product Variants: \n",
      "Click on the \"Eye\" icon next to a product to open its variants.\n",
      "o Description: A brief explanation of the product. \n",
      "o Product Image: Click on the \"Upload Image\" button or drag and drop an \n",
      "image file into the upload area. (Recommended size: 500x500 pixels.) \n",
      "o Brand: The manufacturer or company associated with the product. \n",
      "o Category: The classification of the product (e.g., Cakes, Muffins). \n",
      "o Price: The selling price of the product. \n",
      "o Tax: Applicable tax percentage (e.g., 5%, 18%).\n",
      "28 \n",
      " \n",
      "o Unit: The measurement unit (e.g., Gram, Liter, Count). \n",
      "o Veg/Non-Veg: Specify dietary preference. \n",
      "o Product Type: Type of product (e.g., Fresh, Packaged). \n",
      "o HSN Code: Harmonized System of Nomenclature code for taxation. \n",
      "4. Save the Product: \n",
      "Click Save to register the product. \n",
      "FIG 3.2.14 \n",
      "Examples: \n",
      "If you are adding \"Chocolate Truffle Cake,\" the details might look like: \n",
      "• Product Name: Chocolate Truffle Cake \n",
      "• Description: A decadent chocolate sponge layered with dark chocolate ganache. \n",
      "• Brand: Bakingo \n",
      "• Category: Cakes \n",
      "• Price: ₹550\n",
      "PRODUCT TRAINING MANUAL \n",
      "(A Comprehensive Guide for Operational Excellence) \n",
      "Step-by-Step Guide for Seamless Operations \n",
      "Version 1.0\n",
      "2 \n",
      " \n",
      " \n",
      "Table of Contents \n",
      " \n",
      "Introduction ................................................................................................................................. 3 \n",
      "Chapter 1: Begin with Setting up your Data .................................................................................... 7 \n",
      "1. Login Process ................................................................................................................... 7 \n",
      "2. Brand Management .......................................................................................................... 8 \n",
      "3. Store Management ......................................................................................................... 12 \n",
      "4. Product Category Management ....................................................................................... 20\n",
      "● Navigate to the Variants Section: \n",
      "Go to My Food Products > Variants Tab. \n",
      "● Access Product Variants: \n",
      "Click on the \"Eye\" icon next to a product to open its variants. \n",
      "● Update Product Variant Details: \n",
      "Adjust the following key attributes: \n",
      "● Default Variant: Specify one variant as the default. \n",
      "● Display Name: Assign an identifying name to the variant (e.g., Small, \n",
      "Medium, Large). \n",
      "● Min/Max Weight: Define the minimum and maximum weights for the \n",
      "variant. \n",
      "● Container Weight: Add the weight of the container for accurate net \n",
      "weight calculations. \n",
      "● Serving Qty (%): Specify the percentage serving size in relation to the \n",
      "default variant (e.g., 50% of Large). \n",
      "● MOQ (Minimum Order Quantity): Set the least quantity that can be \n",
      "ordered. \n",
      "● Cost Price: Reflects the cost of production or procurement (auto \n",
      "calculated from BOM if a recipe exists).\n",
      "33 \n",
      " \n",
      "● Transfer Price: Internal selling price used between departments or units.\n",
      "a. Click the Delete button/icon associated with the product. \n",
      "Examples: \n",
      "Suppose the price of \"Chocolate Truffle Cake\" needs to be updated. \n",
      "• Old Price: ₹550 \n",
      "• New Price: ₹600 \n",
      "• Additionally, the description could be modified to include \"topped with edible gold \n",
      "flakes.\" Once updated, click Save to apply the changes.\n",
      "31 \n",
      " \n",
      "b. Confirm the deletion action when the system prompts: \n",
      "\"Are you sure you want to delete this product? This action cannot be \n",
      "undone.\" \n",
      "4. Complete the Process: \n",
      "The product is permanently removed from the system. \n",
      " \n",
      "6. Product Variant Management \n",
      "This module aims to equip users with the skills needed to effectively manage products \n",
      "and their variants within the UY System. Product variant management involves handling \n",
      "essential product details to ensure accurate representation and streamlined operations. \n",
      "FIG 3.2.16 \n",
      "Examples: \n",
      "Imagine you have a product called \"Blueberry Muffin\" in the list view:\n",
      "product quality. \n",
      "4. Packaging Materials: \n",
      "• Definition: Items used to package and present products to customers. \n",
      "• Examples: Boxes, wrappers, labels. \n",
      "• Importance: Enhances product presentation and ensures safe \n",
      "transportation. \n",
      "6.1. Product Creation: Creating a product involves entering the essential details \n",
      "required to define it in the system. This ensures the product is available for \n",
      "operations like inventory management, sales, and reporting. \n",
      "Procedure: \n",
      "1. Navigate to the Correct Section: \n",
      "Access the \"My Food Products > All Product\" tab. \n",
      "2. Initiate the Process: \n",
      "Click on the \"+ ADD PRODUCTS\" button to open the product creation form. \n",
      "3. Enter Product Details: \n",
      "Provide the following information: \n",
      "o Product Name: The name of the product. \n",
      "o Description: A brief explanation of the product. \n",
      "o Product Image: Click on the \"Upload Image\" button or drag and drop an \n",
      "image file into the upload area. (Recommended size: 500x500 pixels.)\n"
     ]
    }
   ],
   "source": [
    "res=vectorStores.similarity_search(\n",
    "    \"how to enable the product\",\n",
    "    k=8\n",
    ")\n",
    "info=\"\"\n",
    "for idx,r in enumerate(res):\n",
    "    print(r.page_content)\n",
    "    info+=r.page_content"
   ]
  },
  {
   "cell_type": "code",
   "execution_count": 50,
   "id": "8013136d-4948-4725-a0d9-da2da0fe2e7a",
   "metadata": {},
   "outputs": [],
   "source": [
    "res=openai.chat.completions.create(\n",
    "    messages=[\n",
    "        {\"role\":\"system\",\"content\":f\"\"\"Use the following pieces of context to answer the user's question. \n",
    "If you don't know the answer, just say that you don't know, don't try to make up an answer.\n",
    "------------------------\n",
    "{info}\n",
    "\"\"\"},\n",
    "        {\"role\":\"user\",\"content\":\"\"\"how to disable the product\"\"\"}\n",
    "    ],\n",
    "    model=\"gpt-4o-mini\",\n",
    "    temperature=0,\n",
    ")"
   ]
  },
  {
   "cell_type": "code",
   "execution_count": 51,
   "id": "c8be5514-ff0c-4d45-b96e-4bf9929da300",
   "metadata": {},
   "outputs": [
    {
     "name": "stdout",
     "output_type": "stream",
     "text": [
      "To disable a product, follow these steps:\n",
      "\n",
      "1. Access the Product List: Go to \"My Food Products > All Product\" to view the list of all registered products.\n",
      "2. Locate the Product: Identify the product you want to disable in the list.\n",
      "3. Use the Toggle Button: \n",
      "   - Switch the toggle to the \"OFF\" position to deactivate the product temporarily (e.g., if it’s out of stock or seasonal).\n",
      "4. Changes are Saved Automatically: The system instantly updates the product's status. \n",
      "\n",
      "Once you switch the toggle to \"OFF,\" the product will no longer appear in sales or inventory operations.\n"
     ]
    }
   ],
   "source": [
    "print(res.choices[0].message.content)"
   ]
  },
  {
   "cell_type": "code",
   "execution_count": 1,
   "id": "1f6056c5-1247-4d35-a098-a427ace2c0e7",
   "metadata": {},
   "outputs": [],
   "source": [
    "from LLModel import LLModel"
   ]
  },
  {
   "cell_type": "code",
   "execution_count": 2,
   "id": "a188a100-955a-480b-bcba-41de6bd9ee4b",
   "metadata": {},
   "outputs": [],
   "source": [
    "llm=LLModel()"
   ]
  },
  {
   "cell_type": "code",
   "execution_count": 3,
   "id": "8a407f64-1f07-4093-b76b-a0b5cb4e40ad",
   "metadata": {},
   "outputs": [
    {
     "data": {
      "text/plain": [
       "<generator object LLModel.generate at 0x000002644889D140>"
      ]
     },
     "execution_count": 3,
     "metadata": {},
     "output_type": "execute_result"
    }
   ],
   "source": [
    "llm.generate(\"how to enable the product\")"
   ]
  },
  {
   "cell_type": "code",
   "execution_count": null,
   "id": "6604baf3-51b4-4fbb-8493-a7957c852c93",
   "metadata": {},
   "outputs": [],
   "source": []
  }
 ],
 "metadata": {
  "kernelspec": {
   "display_name": "Python 3 (ipykernel)",
   "language": "python",
   "name": "python3"
  },
  "language_info": {
   "codemirror_mode": {
    "name": "ipython",
    "version": 3
   },
   "file_extension": ".py",
   "mimetype": "text/x-python",
   "name": "python",
   "nbconvert_exporter": "python",
   "pygments_lexer": "ipython3",
   "version": "3.11.11"
  }
 },
 "nbformat": 4,
 "nbformat_minor": 5
}
