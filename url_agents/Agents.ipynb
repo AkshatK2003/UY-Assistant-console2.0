{
 "cells": [
  {
   "cell_type": "code",
   "execution_count": 72,
   "id": "1a079c57-59f8-418a-b007-8005cdc199fc",
   "metadata": {},
   "outputs": [],
   "source": [
    "from openai import OpenAI\n",
    "from dotenv import load_dotenv\n",
    "from langchain_community.utilities import SQLDatabase\n",
    "import configparser\n",
    "from langchain.agents import tool\n",
    "load_dotenv()\n",
    "openai=OpenAI()\n",
    "config = configparser.ConfigParser()\n",
    "config.read(\"config.ini\")\n",
    "\n",
    "db_type = config[\"Database\"][\"db_type\"]\n",
    "password = config[\"Database\"][\"password\"]\n",
    "host = config[\"Database\"][\"host\"]\n",
    "port = config[\"Database\"][\"port\"]\n",
    "database= config[\"Database\"][\"database\"]\n",
    "username = config[\"Database\"][\"username\"]\n",
    "auth_plugin= config[\"Database\"][\"auth_plugin\"]\n",
    "\n",
    "class productAgent:\n",
    "    def __init__(self,username=username,password=password,host=host,port=port,database=database,db_type=db_type,auth_plugin=auth_plugin):\n",
    "        self.db = SQLDatabase.from_uri(f\"mysql+mysqlconnector://{username}:{password}@{host}/{database}?auth_plugin={auth_plugin}\")\n",
    "        self.products=eval(self.db.run(\"select id,productName from Product where customerId=52 and isDeleted=0;\"))\n",
    "\n",
    "    def format_data(self,data):\n",
    "        return \"\\n\".join([f\"  - {name} → {id}\" for id, name in data])\n",
    "\n",
    "    def generateURL(self,query):\n",
    "        system_prompt=f\"\"\"\"### GOAL: you are a URL generator that generates URL for the user.If you don't know just answer you don't know.look at the examples below and then create the URL like the examples given below\n",
    "\n",
    "        just print the url\n",
    "        \n",
    "        product list (name → id):\n",
    "        {self.format_data(self.products)}\n",
    "\n",
    "        ### WARNINGS\n",
    "        CAREFULLY MAP IDS WITH THE ENTITIES\n",
    "        carefully look at the ids of the corresponding entities and then come up with the answer\n",
    "        \n",
    "        look at the examples given below to create the appropriate URL\n",
    "        \n",
    "        example 1:to view the product list\n",
    "        url: https://bakingo.resoee.com/console2/products/all\n",
    "        \n",
    "        example 2: to view or edit product with product id 4438\n",
    "        url: https://bakingo.resoee.com/console2/products/all/view/4438\n",
    "        \n",
    "        example 3: to create a new product\n",
    "        url: https://bakingo.resoee.com/console2/products/all/new\n",
    "        \"\"\"\n",
    "\n",
    "        user_prompt=query\n",
    "        \n",
    "        res=openai.chat.completions.create(\n",
    "            messages=[\n",
    "                {'role':'system','content':system_prompt},\n",
    "                {'role':'user','content':user_prompt}\n",
    "            ],\n",
    "            model='gpt-4o-mini',\n",
    "            temperature=0\n",
    "        )\n",
    "        return res.choices[0].message.content\n",
    "        "
   ]
  },
  {
   "cell_type": "code",
   "execution_count": 73,
   "id": "1ad939d7-2590-4b32-b866-092fa6a331d8",
   "metadata": {},
   "outputs": [],
   "source": [
    "from openai import OpenAI\n",
    "from dotenv import load_dotenv\n",
    "from langchain_community.utilities import SQLDatabase\n",
    "import configparser\n",
    "from langchain.agents import tool\n",
    "load_dotenv()\n",
    "openai=OpenAI()\n",
    "config = configparser.ConfigParser()\n",
    "config.read(\"config.ini\")\n",
    "\n",
    "db_type = config[\"Database\"][\"db_type\"]\n",
    "password = config[\"Database\"][\"password\"]\n",
    "host = config[\"Database\"][\"host\"]\n",
    "port = config[\"Database\"][\"port\"]\n",
    "database= config[\"Database\"][\"database\"]\n",
    "username = config[\"Database\"][\"username\"]\n",
    "auth_plugin= config[\"Database\"][\"auth_plugin\"]\n",
    "\n",
    "class storeAgent:\n",
    "    def __init__(self,username=username,password=password,host=host,port=port,database=database,db_type=db_type,auth_plugin=auth_plugin):\n",
    "        self.db = SQLDatabase.from_uri(f\"mysql+mysqlconnector://{username}:{password}@{host}/{database}?auth_plugin={auth_plugin}\")\n",
    "        self.stores=eval(self.db.run(\"select id,name from Store where customerId=52 and isDeleted=0;\"))\n",
    "        \n",
    "    def format_data(self,data):\n",
    "        return \"\\n\".join([f\"  - {name} → {id}\" for id, name in data])\n",
    "\n",
    "    def generateURL(self,query):\n",
    "        system_prompt=f\"\"\"\"### GOAL: you are a URL generator that generates URL for the user.If you don't know just answer you don't know.look at the examples below and then create the URL like the examples given below\n",
    "\n",
    "        just print the url\n",
    "        \n",
    "        stores list (name → id):\n",
    "        {self.format_data(self.stores)}\n",
    "\n",
    "        ### WARNINGS\n",
    "        CAREFULLY MAP IDS WITH THE ENTITIES\n",
    "        carefully look at the ids of the corresponding entities and then come up with the answer\n",
    "        \n",
    "        look at the examples given below to create the appropriate URL\n",
    "        \n",
    "        example 1: to view stores list\n",
    "        url: https://bakingo.resoee.com/console2/outlets/stores\n",
    "        \n",
    "        example 2: to view or edit store with id 428\n",
    "        url: https://bakingo.resoee.com/console2/outlets/stores/view/428\n",
    "        \n",
    "        example 3: to create a new store\n",
    "        url: https://bakingo.resoee.com/console2/outlets/stores/new\n",
    "        \"\"\"\n",
    "\n",
    "        user_prompt=query\n",
    "        \n",
    "        res=openai.chat.completions.create(\n",
    "            messages=[\n",
    "                {'role':'system','content':system_prompt},\n",
    "                {'role':'user','content':user_prompt}\n",
    "            ],\n",
    "            model='gpt-4o-mini',\n",
    "            temperature=0\n",
    "        )\n",
    "        return res.choices[0].message.content\n",
    "        "
   ]
  },
  {
   "cell_type": "code",
   "execution_count": 74,
   "id": "507ff667-faf3-4597-9e04-fa3d7be0ab7f",
   "metadata": {},
   "outputs": [],
   "source": [
    "from openai import OpenAI\n",
    "from dotenv import load_dotenv\n",
    "from langchain_community.utilities import SQLDatabase\n",
    "import configparser\n",
    "from langchain.agents import tool\n",
    "load_dotenv()\n",
    "openai=OpenAI()\n",
    "config = configparser.ConfigParser()\n",
    "config.read(\"config.ini\")\n",
    "\n",
    "db_type = config[\"Database\"][\"db_type\"]\n",
    "password = config[\"Database\"][\"password\"]\n",
    "host = config[\"Database\"][\"host\"]\n",
    "port = config[\"Database\"][\"port\"]\n",
    "database= config[\"Database\"][\"database\"]\n",
    "username = config[\"Database\"][\"username\"]\n",
    "auth_plugin= config[\"Database\"][\"auth_plugin\"]\n",
    "\n",
    "class productCategoryAgent:\n",
    "    def __init__(self,username=username,password=password,host=host,port=port,database=database,db_type=db_type,auth_plugin=auth_plugin):\n",
    "        self.db = SQLDatabase.from_uri(f\"mysql+mysqlconnector://{username}:{password}@{host}/{database}?auth_plugin={auth_plugin}\")\n",
    "        self.productCat=eval(self.db.run(\"select id,productCategoryName from ProductCategory where customerId=52 and isDeleted=0;\"))\n",
    "        \n",
    "    def format_data(self,data):\n",
    "        return \"\\n\".join([f\"  - {name} → {id}\" for id, name in data])\n",
    "\n",
    "    def generateURL(self,query):\n",
    "        system_prompt=f\"\"\"\"### GOAL: you are a URL generator that generates URL for the user.If you don't know just answer you don't know.look at the examples below and then create the URL like the examples given below\n",
    "\n",
    "        just print the url\n",
    "        \n",
    "        product category (name -> id):\n",
    "        {self.format_data(self.productCat)}\n",
    "\n",
    "        ### WARNINGS\n",
    "        CAREFULLY MAP IDS WITH THE ENTITIES\n",
    "        carefully look at the ids of the corresponding entities and then come up with the answer\n",
    "        \n",
    "        look at the examples given below to create the appropriate URL\n",
    "        \n",
    "        example 1: to view list of products cateories\n",
    "        url: https://bakingo.resoee.com/console2/products/category\n",
    "        \n",
    "        example 2: to view or edit product category with id 442\n",
    "        url: https://bakingo.resoee.com/console2/products/category/view/442\n",
    "        \n",
    "        example 3: to create a new product Category\n",
    "        url: https://bakingo.resoee.com/console2/products/category/new\n",
    "        \"\"\"\n",
    "\n",
    "        user_prompt=query\n",
    "        \n",
    "        res=openai.chat.completions.create(\n",
    "            messages=[\n",
    "                {'role':'system','content':system_prompt},\n",
    "                {'role':'user','content':user_prompt}\n",
    "            ],\n",
    "            model='gpt-4o-mini',\n",
    "            temperature=0\n",
    "        )\n",
    "        return res.choices[0].message.content\n",
    "        "
   ]
  },
  {
   "cell_type": "code",
   "execution_count": 75,
   "id": "755e770a-c0ae-43a2-9503-db3a60207b8e",
   "metadata": {},
   "outputs": [],
   "source": [
    "productURL=productAgent()\n",
    "storeURL=storeAgent()\n",
    "productCatURL=productCategoryAgent()"
   ]
  },
  {
   "cell_type": "code",
   "execution_count": 5,
   "id": "621f5e99-746d-44c9-921d-a2c436c3a9e5",
   "metadata": {},
   "outputs": [],
   "source": [
    "from openai import OpenAI\n",
    "from dotenv import load_dotenv\n",
    "from langchain_community.utilities import SQLDatabase\n",
    "import configparser\n",
    "config = configparser.ConfigParser()\n",
    "config.read(\"config.ini\")\n",
    "load_dotenv()\n",
    "\n",
    "db_type = config[\"Database\"][\"db_type\"]\n",
    "password = config[\"Database\"][\"password\"]\n",
    "host = config[\"Database\"][\"host\"]\n",
    "port = config[\"Database\"][\"port\"]\n",
    "database= config[\"Database\"][\"database\"]\n",
    "username = config[\"Database\"][\"username\"]\n",
    "auth_plugin= config[\"Database\"][\"auth_plugin\"]\n",
    "\n",
    "db = SQLDatabase.from_uri(f\"mysql+mysqlconnector://{username}:{password}@{host}/{database}?auth_plugin={auth_plugin}\")\n",
    "productCat=eval(db.run(\"select productCategoryName from ProductCategory where customerId=52 and isDeleted=0 limit 10;\"))\n",
    "product=eval(db.run(\"select productName from Product where customerId=52 and isDeleted=0 limit 10;\"))\n",
    "stores=eval(db.run(\"select name from Store where customerId=52 and isDeleted=0 limit 10;\"))\n"
   ]
  },
  {
   "cell_type": "code",
   "execution_count": 10,
   "id": "eb559e92-bb99-44e8-b6dd-1491fbd5e267",
   "metadata": {},
   "outputs": [],
   "source": [
    "def format_data(data):\n",
    "    return \"\\n\".join([name[0] for name in data])"
   ]
  },
  {
   "cell_type": "code",
   "execution_count": 15,
   "id": "4a19a5ab-0d61-42a7-a62c-b54aada8ca28",
   "metadata": {},
   "outputs": [
    {
     "name": "stdout",
     "output_type": "stream",
     "text": [
      "Pastry\n",
      "Cake\n",
      "Brownie\n",
      "Cheesecake Slice\n",
      "Boxes\n",
      "Jar Cake\n",
      "Verrine Cups\n",
      "Cup Cakes\n",
      "Dry Cake\n",
      "Cookies\n"
     ]
    }
   ],
   "source": [
    "print(format_data(productCat))"
   ]
  },
  {
   "cell_type": "code",
   "execution_count": 16,
   "id": "f0a4f975-0399-47c1-9be0-55577d799973",
   "metadata": {},
   "outputs": [
    {
     "name": "stdout",
     "output_type": "stream",
     "text": [
      "Black forest pastry\n",
      "Butterscotch Pastry\n",
      "Choco Truffle Pastry\n",
      "Chocolate Chip Pastry\n",
      "Kit Kat Pastry\n",
      "Mango Pastry\n",
      "Pineapple Pastry\n",
      "Red velvet Pastry\n",
      "Black Forest Cake\n",
      "Butterscotch Cake\n"
     ]
    }
   ],
   "source": [
    "print(format_data(product))"
   ]
  },
  {
   "cell_type": "code",
   "execution_count": 18,
   "id": "23e467b5-ad42-4a72-b34b-751f60d0e2dd",
   "metadata": {},
   "outputs": [
    {
     "name": "stdout",
     "output_type": "stream",
     "text": [
      "Bharat Cold Storage\n",
      "Global Star specialty foods pvt ltd.\n",
      "BK-BLR-Begur Store\n",
      "BK-HYD-Lingampally\n",
      "BK-KKT-Lake Town\n",
      "BK-Pune-Aundhgaon\n",
      "BK-Pune-Kharadi\n",
      "BK-KKT-Chanditala\n",
      "BK-HYD-Kompally\n",
      "BK-HYD-Uppal\n"
     ]
    }
   ],
   "source": [
    "print(format_data(stores))"
   ]
  },
  {
   "cell_type": "code",
   "execution_count": 86,
   "id": "137990f0-1317-4f9c-be4e-3c653c4d6d53",
   "metadata": {},
   "outputs": [
    {
     "name": "stdout",
     "output_type": "stream",
     "text": [
      "\n",
      "\n",
      "\u001b[1m> Entering new None chain...\u001b[0m\n",
      "\u001b[32;1m\u001b[1;3m\n",
      "Invoking: `storef` with `{'query': 'view list of stores'}`\n",
      "\n",
      "\n",
      "\u001b[33;1m\u001b[1;3mhttps://bakingo.resoee.com/console2/outlets/stores\u001b[0m\u001b[32;1m\u001b[1;3mYou can view the list of stores [here](https://bakingo.resoee.com/console2/outlets/stores).\u001b[0m\n",
      "\n",
      "\u001b[1m> Finished chain.\u001b[0m\n"
     ]
    }
   ],
   "source": [
    "res=list(agent_executor.stream({\"input\": \"i want to view list of stores\"}))"
   ]
  },
  {
   "cell_type": "code",
   "execution_count": 108,
   "id": "4b51c4d6-58dd-48e4-896b-749862504ae8",
   "metadata": {},
   "outputs": [
    {
     "name": "stdout",
     "output_type": "stream",
     "text": [
      "\n",
      "\n",
      "\u001b[1m> Entering new None chain...\u001b[0m\n",
      "\u001b[32;1m\u001b[1;3m\n",
      "Invoking: `storef` with `{'query': 'mumbai kitchen'}`\n",
      "\n",
      "\n",
      "\u001b[33;1m\u001b[1;3mhttps://bakingo.resoee.com/console2/outlets/stores/view/151\u001b[0m\u001b[32;1m\u001b[1;3mhttps://bakingo.resoee.com/console2/outlets/stores/view/151\u001b[0m\n",
      "\n",
      "\u001b[1m> Finished chain.\u001b[0m\n"
     ]
    },
    {
     "data": {
      "text/plain": [
       "'https://bakingo.resoee.com/console2/outlets/stores/view/151'"
      ]
     },
     "execution_count": 108,
     "metadata": {},
     "output_type": "execute_result"
    }
   ],
   "source": [
    "prompt = ChatPromptTemplate.from_messages(\n",
    "    [\n",
    "        (\n",
    "            \"system\",\n",
    "            f\"\"\"you are a brain for a URL generation architecture, you have to decide which is the most appropriate function to call for the task or is it unneccessary to call any function.\n",
    "            Pass the same query to the function. you have to decide weather the enetity is a product, productCategory or the store for appropriate function calling\n",
    "            just print the URL and don't print anything else and if you don't get it at last just say i don't know\n",
    "            \n",
    "            given below are the example lists to identify if the entity is 'product' or 'store' or 'product category'\n",
    "\n",
    "            product names:\n",
    "            {product}\n",
    "\n",
    "            stores names:\n",
    "            {stores}\n",
    "\n",
    "            product category names:\n",
    "            {productCat}\n",
    "\n",
    "            if the entity seems like a product but the answer returns i don't know then fall back to product category and also do vice versa if opposite happens\n",
    "            \n",
    "            \"\"\"\n",
    "        ),\n",
    "        (\"user\", \"{input}\"),\n",
    "        MessagesPlaceholder(variable_name=\"agent_scratchpad\"),\n",
    "    ]\n",
    ")\n",
    "\n",
    "@tool\n",
    "def productf(query):\n",
    "    \"This function can generate URL for the editing, modifying, viewing, creating queries related to 'products'\"\n",
    "    return productURL.generateURL(query)\n",
    "\n",
    "@tool\n",
    "def storef(query):\n",
    "    \"this function can generate URL for the editing, modifying, viewing, creating queries related to 'stores'\"\n",
    "    return storeURL.generateURL(query)\n",
    "\n",
    "@tool\n",
    "def productCatf(query):\n",
    "    \"this function can generate URL for editing, modifying, viewing, creating queries related to 'product categories'\"\n",
    "    return productCatURL.generateURL(query)\n",
    "    \n",
    "tools=[productf,storef,productCatf]\n",
    "llm_with_tools = llm.bind_tools(tools)\n",
    "\n",
    "agent = (\n",
    "    {\n",
    "        \"input\": lambda x: x[\"input\"],\n",
    "        \"agent_scratchpad\": lambda x: format_to_openai_tool_messages(\n",
    "            x[\"intermediate_steps\"]\n",
    "        ),\n",
    "    }\n",
    "    | prompt\n",
    "    | llm_with_tools\n",
    "    | OpenAIToolsAgentOutputParser()\n",
    ")\n",
    "\n",
    "agent_executor = AgentExecutor(agent=agent, tools=tools, verbose=True)\n",
    "\n",
    "res=list(agent_executor.stream({\"input\": \"i want to edit mumbai kitchen\"}))\n",
    "\n",
    "res[-1]['messages'][0].content"
   ]
  },
  {
   "cell_type": "code",
   "execution_count": 1,
   "id": "9b92e15d-bcc1-4c35-a5c7-f9c80baf6ba9",
   "metadata": {},
   "outputs": [],
   "source": [
    "from urlAgent import urlAgent"
   ]
  },
  {
   "cell_type": "code",
   "execution_count": 2,
   "id": "550cee42-5e05-4cc3-9f24-ddb4e55c78d1",
   "metadata": {},
   "outputs": [],
   "source": [
    "url=urlAgent()"
   ]
  },
  {
   "cell_type": "code",
   "execution_count": 13,
   "id": "cfabfb9c-1cc8-40ef-8fe8-4e69da2ad052",
   "metadata": {},
   "outputs": [
    {
     "name": "stdout",
     "output_type": "stream",
     "text": [
      "\n",
      "\n",
      "\u001b[1m> Entering new None chain...\u001b[0m\n",
      "\u001b[32;1m\u001b[1;3mi don't know\u001b[0m\n",
      "\n",
      "\u001b[1m> Finished chain.\u001b[0m\n"
     ]
    },
    {
     "data": {
      "text/plain": [
       "\"i don't know\""
      ]
     },
     "execution_count": 13,
     "metadata": {},
     "output_type": "execute_result"
    }
   ],
   "source": [
    "url.generateURL(\"hello how are you\")"
   ]
  },
  {
   "cell_type": "code",
   "execution_count": null,
   "id": "d1e286bf-0916-4baf-bf59-e3a048541750",
   "metadata": {},
   "outputs": [],
   "source": []
  }
 ],
 "metadata": {
  "kernelspec": {
   "display_name": "Python 3 (ipykernel)",
   "language": "python",
   "name": "python3"
  },
  "language_info": {
   "codemirror_mode": {
    "name": "ipython",
    "version": 3
   },
   "file_extension": ".py",
   "mimetype": "text/x-python",
   "name": "python",
   "nbconvert_exporter": "python",
   "pygments_lexer": "ipython3",
   "version": "3.11.11"
  }
 },
 "nbformat": 4,
 "nbformat_minor": 5
}
